{
 "cells": [
  {
   "cell_type": "code",
   "execution_count": 1,
   "metadata": {},
   "outputs": [],
   "source": [
    "from uniconvert.types import *\n",
    "from uniconvert.conversions import *"
   ]
  },
  {
   "attachments": {},
   "cell_type": "markdown",
   "metadata": {},
   "source": [
    "<hr>\n",
    "\n",
    "Find the Force Applied to an Object"
   ]
  },
  {
   "cell_type": "code",
   "execution_count": 2,
   "metadata": {},
   "outputs": [
    {
     "name": "stdout",
     "output_type": "stream",
     "text": [
      "Mass: 2.205*10⁰ lb\n",
      "Acceleration: 5.000*10⁰ m/s²\n",
      "Resulting Force: 5.005*10⁰ N\n"
     ]
    }
   ],
   "source": [
    "mass = Quantity(2.205, {'lb': 1})\n",
    "acceleration = Quantity(5.0, {'m': 1, 's': -2})\n",
    "\n",
    "print(f\"Mass: {mass}\")\n",
    "print(f\"Acceleration: {acceleration}\")\n",
    "print(f\"Resulting Force: {(mass * acceleration).standardized_physics()}\")"
   ]
  },
  {
   "attachments": {},
   "cell_type": "markdown",
   "metadata": {},
   "source": [
    "<hr>\n",
    "\n",
    "Find the Change in Y-Velocity Associated with Gravity"
   ]
  },
  {
   "cell_type": "code",
   "execution_count": 6,
   "metadata": {},
   "outputs": [
    {
     "name": "stdout",
     "output_type": "stream",
     "text": [
      "Acceleration by Gravity: -9.800*10⁰ m/s²\n",
      "Time: 2.000*10⁰ min\n",
      "Initial Upwards Velocity: 1.000*10⁰ km/s\n",
      "Resulting Velocity: -1.760*10² m/s\n"
     ]
    }
   ],
   "source": [
    "g = Quantity(-9.8, {'m': 1, 's': -2})\n",
    "t = Quantity(2, {'min': 1})\n",
    "vy_initial = Quantity(1, {'km': 1, 's': -1})\n",
    "\n",
    "print(f\"Acceleration by Gravity: {g}\")\n",
    "print(f\"Time: {t}\")\n",
    "print(f\"Initial Upwards Velocity: {vy_initial}\")\n",
    "\n",
    "print(f\"Resulting Velocity: {(g * t + vy_initial)}\")"
   ]
  }
 ],
 "metadata": {
  "kernelspec": {
   "display_name": ".venv",
   "language": "python",
   "name": "python3"
  },
  "language_info": {
   "codemirror_mode": {
    "name": "ipython",
    "version": 3
   },
   "file_extension": ".py",
   "mimetype": "text/x-python",
   "name": "python",
   "nbconvert_exporter": "python",
   "pygments_lexer": "ipython3",
   "version": "3.11.3"
  },
  "orig_nbformat": 4,
  "vscode": {
   "interpreter": {
    "hash": "42872e89504196b3ab58dd5980f1cb33bc7e882feae7b5bd06aff575d380971f"
   }
  }
 },
 "nbformat": 4,
 "nbformat_minor": 2
}
